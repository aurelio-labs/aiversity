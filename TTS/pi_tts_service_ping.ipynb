{
 "cells": [
  {
   "cell_type": "code",
   "execution_count": 1,
   "metadata": {},
   "outputs": [
    {
     "name": "stdout",
     "output_type": "stream",
     "text": [
      "Text sent successfully: Hello, this is a test.😊\n"
     ]
    }
   ],
   "source": [
    "import requests\n",
    "\n",
    "def send_text_to_pi(text):\n",
    "    try:\n",
    "        response = requests.post(\"http://localhost:5050/send-text/\", json={\"text\": text})\n",
    "        response.raise_for_status()  # Raise an exception for 4xx or 5xx status codes\n",
    "        print(f\"Text sent successfully: {text}\")\n",
    "    except requests.exceptions.RequestException as e:\n",
    "        print(f\"Error sending text: {e}\")\n",
    "\n",
    "# Example usage\n",
    "send_text_to_pi(\"Hello, this is a test.😊\")"
   ]
  }
 ],
 "metadata": {
  "kernelspec": {
   "display_name": "Python 3",
   "language": "python",
   "name": "python3"
  },
  "language_info": {
   "codemirror_mode": {
    "name": "ipython",
    "version": 3
   },
   "file_extension": ".py",
   "mimetype": "text/x-python",
   "name": "python",
   "nbconvert_exporter": "python",
   "pygments_lexer": "ipython3",
   "version": "3.11.0"
  }
 },
 "nbformat": 4,
 "nbformat_minor": 2
}
